{
 "cells": [
  {
   "cell_type": "markdown",
   "metadata": {},
   "source": [
    "<b><em>Important information about the data set:</b>\n",
    "\n",
    "Data set itself : https://archive.ics.uci.edu/dataset/222/bank+marketing\n",
    "\n",
    "The smallest datasets are provided to test more computationally demanding machine learning algorithms (e.g., SVM). \n",
    "\n",
    "The classification goal is to predict if the client will subscribe (yes/no) a term deposit (variable y).<em>"
   ]
  },
  {
   "cell_type": "code",
   "execution_count": 23,
   "metadata": {},
   "outputs": [
    {
     "data": {
      "text/plain": [
       "age;\"job\";\"marital\";\"education\";\"default\";\"housing\";\"loan\";\"contact\";\"month\";\"day_of_week\";\"duration\";\"campaign\";\"pdays\";\"previous\";\"poutcome\";\"emp.var.rate\";\"cons.price.idx\";\"cons.conf.idx\";\"euribor3m\";\"nr.employed\";\"y\"    0\n",
       "dtype: int64"
      ]
     },
     "execution_count": 23,
     "metadata": {},
     "output_type": "execute_result"
    }
   ],
   "source": [
    "# importing the necessary libraries for data analysis\n",
    "\n",
    "import numpy as np # to work with arrays\n",
    "import pandas as pd # to work with tabular data\n",
    "import matplotlib.pyplot as plt # to visualize data using charts and graphs\n",
    "\n",
    "# importing the dataset to store in a dataframe and checking for null values\n",
    "\n",
    "df = pd.read_csv('bank-additional-full.csv')\n",
    "\n",
    "df.isna().sum()\n"
   ]
  },
  {
   "cell_type": "markdown",
   "metadata": {},
   "source": [
    "<em>No null values found.<em>"
   ]
  },
  {
   "cell_type": "code",
   "execution_count": 20,
   "metadata": {},
   "outputs": [
    {
     "data": {
      "text/plain": [
       "12"
      ]
     },
     "execution_count": 20,
     "metadata": {},
     "output_type": "execute_result"
    }
   ],
   "source": [
    "# checking for duplicate values\n",
    "\n",
    "df.duplicated().sum()"
   ]
  },
  {
   "cell_type": "markdown",
   "metadata": {},
   "source": [
    "<em>Found duplicate values in 12 rows.<em>"
   ]
  },
  {
   "cell_type": "code",
   "execution_count": 30,
   "metadata": {},
   "outputs": [
    {
     "name": "stdout",
     "output_type": "stream",
     "text": [
      "      age;\"job\";\"marital\";\"education\";\"default\";\"housing\";\"loan\";\"contact\";\"month\";\"day_of_week\";\"duration\";\"campaign\";\"pdays\";\"previous\";\"poutcome\";\"emp.var.rate\";\"cons.price.idx\";\"cons.conf.idx\";\"euribor3m\";\"nr.employed\";\"y\"\n",
      "1266   39;\"blue-collar\";\"married\";\"basic.6y\";\"no\";\"no...                                                                                                                                                                          \n",
      "12261  36;\"retired\";\"married\";\"unknown\";\"no\";\"no\";\"no...                                                                                                                                                                          \n",
      "14234  27;\"technician\";\"single\";\"professional.course\"...                                                                                                                                                                          \n",
      "16956  47;\"technician\";\"divorced\";\"high.school\";\"no\";...                                                                                                                                                                          \n",
      "18465  32;\"technician\";\"single\";\"professional.course\"...                                                                                                                                                                          \n",
      "20216  55;\"services\";\"married\";\"high.school\";\"unknown...                                                                                                                                                                          \n",
      "20534  41;\"technician\";\"married\";\"professional.course...                                                                                                                                                                          \n",
      "25217  39;\"admin.\";\"married\";\"university.degree\";\"no\"...                                                                                                                                                                          \n",
      "28477  24;\"services\";\"single\";\"high.school\";\"no\";\"yes...                                                                                                                                                                          \n",
      "32516  35;\"admin.\";\"married\";\"university.degree\";\"no\"...                                                                                                                                                                          \n",
      "36951  45;\"admin.\";\"married\";\"university.degree\";\"no\"...                                                                                                                                                                          \n",
      "38281  71;\"retired\";\"single\";\"university.degree\";\"no\"...                                                                                                                                                                          \n"
     ]
    }
   ],
   "source": [
    "# checking which rows are duplicates from the result obtained above\n",
    "\n",
    "duplicate_rows = df[df.duplicated()]\n",
    "print(duplicate_rows)\n"
   ]
  },
  {
   "cell_type": "markdown",
   "metadata": {},
   "source": [
    "<em>After a quick analysis, found that there are no whole row duplicates, but just some duplicate values concerning job description, marital status, education, etc...so no need to clean duplicates.<em>"
   ]
  },
  {
   "cell_type": "code",
   "execution_count": 36,
   "metadata": {},
   "outputs": [
    {
     "data": {
      "text/plain": [
       "Index(['age;\"job\";\"marital\";\"education\";\"default\";\"housing\";\"loan\";\"contact\";\"month\";\"day_of_week\";\"duration\";\"campaign\";\"pdays\";\"previous\";\"poutcome\";\"emp.var.rate\";\"cons.price.idx\";\"cons.conf.idx\";\"euribor3m\";\"nr.employed\";\"y\"'], dtype='object')"
      ]
     },
     "execution_count": 36,
     "metadata": {},
     "output_type": "execute_result"
    }
   ],
   "source": [
    "# displaying column names \n",
    "\n",
    "df.columns"
   ]
  },
  {
   "cell_type": "markdown",
   "metadata": {},
   "source": [
    "<em>Some column names are not very explicit and thus need to be changed for better understandability.<em>"
   ]
  },
  {
   "cell_type": "code",
   "execution_count": null,
   "metadata": {},
   "outputs": [],
   "source": []
  }
 ],
 "metadata": {
  "kernelspec": {
   "display_name": "Python 3",
   "language": "python",
   "name": "python3"
  },
  "language_info": {
   "codemirror_mode": {
    "name": "ipython",
    "version": 3
   },
   "file_extension": ".py",
   "mimetype": "text/x-python",
   "name": "python",
   "nbconvert_exporter": "python",
   "pygments_lexer": "ipython3",
   "version": "3.12.3"
  }
 },
 "nbformat": 4,
 "nbformat_minor": 2
}
