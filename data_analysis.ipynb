{
 "cells": [
  {
   "cell_type": "code",
   "execution_count": 1,
   "metadata": {},
   "outputs": [],
   "source": [
    "# Important information about the data set itself:\n",
    "\n",
    "# Data set itself : https://archive.ics.uci.edu/dataset/222/bank+marketing\n",
    "\n",
    "# The smallest datasets are provided to test more computationally demanding machine learning algorithms (e.g., SVM). \n",
    "\n",
    "# The classification goal is to predict if the client will subscribe (yes/no) a term deposit (variable y).\n"
   ]
  },
  {
   "cell_type": "code",
   "execution_count": null,
   "metadata": {},
   "outputs": [],
   "source": [
    "# importing the necessary libraries for data analysis\n",
    "\n",
    "import numpy as np # to work with arrays\n",
    "import pandas as pd # to work with tabular data\n",
    "import matplotlib.pyplot as plt # to visualize data using charts and graphs\n",
    "\n",
    "\n",
    "\n"
   ]
  }
 ],
 "metadata": {
  "kernelspec": {
   "display_name": "Python 3",
   "language": "python",
   "name": "python3"
  },
  "language_info": {
   "codemirror_mode": {
    "name": "ipython",
    "version": 3
   },
   "file_extension": ".py",
   "mimetype": "text/x-python",
   "name": "python",
   "nbconvert_exporter": "python",
   "pygments_lexer": "ipython3",
   "version": "3.12.3"
  }
 },
 "nbformat": 4,
 "nbformat_minor": 2
}
